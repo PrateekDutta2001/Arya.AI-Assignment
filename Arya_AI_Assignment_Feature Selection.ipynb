{
  "nbformat": 4,
  "nbformat_minor": 0,
  "metadata": {
    "colab": {
      "name": "Arya.AI Assignment-3.ipynb",
      "provenance": []
    },
    "kernelspec": {
      "name": "python3",
      "display_name": "Python 3"
    },
    "language_info": {
      "name": "python"
    }
  },
  "cells": [
    {
      "cell_type": "code",
      "metadata": {
        "colab": {
          "base_uri": "https://localhost:8080/"
        },
        "id": "ThtFM3Q_apyG",
        "outputId": "8e4f23cb-27b7-4158-d7f2-7cf3b652bcc2"
      },
      "source": [
        "from google.colab import drive\n",
        "drive.mount('/gdrive/')\n",
        "%cd /gdrive"
      ],
      "execution_count": 1,
      "outputs": [
        {
          "output_type": "stream",
          "name": "stdout",
          "text": [
            "Mounted at /gdrive/\n",
            "/gdrive\n"
          ]
        }
      ]
    },
    {
      "cell_type": "code",
      "metadata": {
        "colab": {
          "base_uri": "https://localhost:8080/"
        },
        "id": "WpE12VSqau6G",
        "outputId": "73f37bb0-3e14-4a6d-9afb-d73e0260aa38"
      },
      "source": [
        "ls"
      ],
      "execution_count": 2,
      "outputs": [
        {
          "output_type": "stream",
          "name": "stdout",
          "text": [
            "\u001b[0m\u001b[01;34mMyDrive\u001b[0m/  \u001b[01;34mShareddrives\u001b[0m/\n"
          ]
        }
      ]
    },
    {
      "cell_type": "code",
      "metadata": {
        "colab": {
          "base_uri": "https://localhost:8080/"
        },
        "id": "9PH1ASfIau27",
        "outputId": "231dffb0-bf69-42c8-d20f-05a8043b386c"
      },
      "source": [
        "cd/gdrive/My Drive/AryaAI-Assignment/"
      ],
      "execution_count": 3,
      "outputs": [
        {
          "output_type": "stream",
          "name": "stdout",
          "text": [
            "/gdrive/My Drive/AryaAI-Assignment\n"
          ]
        }
      ]
    },
    {
      "cell_type": "code",
      "metadata": {
        "colab": {
          "base_uri": "https://localhost:8080/"
        },
        "id": "FR9rXt7Mauzw",
        "outputId": "007cd628-e1a4-4a5e-c94f-dba33b145c8c"
      },
      "source": [
        "ls"
      ],
      "execution_count": 4,
      "outputs": [
        {
          "output_type": "stream",
          "name": "stdout",
          "text": [
            "output.csv  test_set.csv  training_set.csv\n"
          ]
        }
      ]
    },
    {
      "cell_type": "markdown",
      "metadata": {
        "id": "dsfq0YSwbHRJ"
      },
      "source": [
        "Import all necessary libraries"
      ]
    },
    {
      "cell_type": "code",
      "metadata": {
        "id": "8DCJHUc4auwp"
      },
      "source": [
        "import pandas as pd\n",
        "import numpy as np\n",
        "import matplotlib.pyplot as plt\n",
        "import seaborn as sns\n",
        "from sklearn.model_selection import train_test_split\n",
        "from sklearn.linear_model import Lasso, LogisticRegression\n",
        "from sklearn.feature_selection import SelectFromModel\n",
        "from sklearn.preprocessing import StandardScaler\n",
        "from sklearn.metrics import confusion_matrix, accuracy_score\n",
        "from sklearn.decomposition import PCA\n",
        "%matplotlib inline"
      ],
      "execution_count": 5,
      "outputs": []
    },
    {
      "cell_type": "markdown",
      "metadata": {
        "id": "Q_RAxI1kbMUF"
      },
      "source": [
        "Load training dataset from csv file"
      ]
    },
    {
      "cell_type": "code",
      "metadata": {
        "id": "nVoOH0fuaute"
      },
      "source": [
        "dataset = pd.read_csv('training_set.csv')\n",
        "dataset = dataset.iloc[:, 1:]"
      ],
      "execution_count": 6,
      "outputs": []
    },
    {
      "cell_type": "markdown",
      "metadata": {
        "id": "V5IeEAvObUBG"
      },
      "source": [
        "Separate features and classes"
      ]
    },
    {
      "cell_type": "code",
      "metadata": {
        "id": "xFTr6xMgauqA"
      },
      "source": [
        "features = dataset.iloc[:, :-1]\n",
        "classes = dataset.iloc[:, -1]\n",
        "# features.columns"
      ],
      "execution_count": 7,
      "outputs": []
    },
    {
      "cell_type": "markdown",
      "metadata": {
        "id": "y7XHNwETbYd4"
      },
      "source": [
        "Feature selection using L1 regularization"
      ]
    },
    {
      "cell_type": "code",
      "metadata": {
        "id": "vpotzzodaujf"
      },
      "source": [
        "train_score = []\n",
        "validation_score = []\n",
        "k_vals = []\n",
        "sc = StandardScaler()\n",
        "\n",
        "for i in range(1, 10):\n",
        "    k = i/10\n",
        "    k_vals.append(k)\n",
        "#     find unwanted features\n",
        "    sel_ = SelectFromModel(LogisticRegression(C=k, penalty='l1', solver='liblinear'))\n",
        "    sel_.fit(features.values, classes.values)\n",
        "    unwanted_features = features.columns[(sel_.estimator_.coef_ == 0).ravel().tolist()]    \n",
        "#     remove unwanted features\n",
        "    refined_features = features.drop(unwanted_features, axis=1, inplace=False)\n",
        "    refined_features.columns    \n",
        "#     train validate split\n",
        "    X_train, X_validate, y_train, y_validate = train_test_split(refined_features.values, classes.values, test_size = 0.20, random_state = 0)\n",
        "    \n",
        "    X_train = sc.fit_transform(X_train)\n",
        "    X_validate = sc.transform(X_validate)    \n",
        "#     classification using Logistic Regression\n",
        "    classifier = LogisticRegression(random_state = 0)\n",
        "    classifier.fit(X_train, y_train)    \n",
        "    tr_score = classifier.score(X_train, y_train)\n",
        "    train_score.append(tr_score)    \n",
        "    val_score = classifier.score(X_validate, y_validate)\n",
        "    validation_score.append(val_score)\n",
        "    y_pred = classifier.predict(X_validate)"
      ],
      "execution_count": 8,
      "outputs": []
    },
    {
      "cell_type": "code",
      "metadata": {
        "colab": {
          "base_uri": "https://localhost:8080/",
          "height": 390
        },
        "id": "kCdMs0lcdNnp",
        "outputId": "6ef0112d-fd68-4808-aa3c-56542f47816c"
      },
      "source": [
        "plt.figure(figsize=(10,5))\n",
        "plt.xlabel('Different Values of K')\n",
        "plt.ylabel('Model score')\n",
        "plt.plot(k_vals, train_score, color = 'r', label = \"training score\")\n",
        "plt.plot(k_vals, validation_score, color = 'b', label = 'validation score')\n",
        "plt.legend(bbox_to_anchor=(1, 1),\n",
        "           bbox_transform=plt.gcf().transFigure)"
      ],
      "execution_count": 9,
      "outputs": [
        {
          "output_type": "execute_result",
          "data": {
            "text/plain": [
              "<matplotlib.legend.Legend at 0x7f676c9e0290>"
            ]
          },
          "metadata": {},
          "execution_count": 9
        },
        {
          "output_type": "display_data",
          "data": {
            "image/png": "[encoded data removed]",
            "text/plain": [
              "<Figure size 720x360 with 1 Axes>"
            ]
          },
          "metadata": {
            "needs_background": "light"
          }
        }
      ]
    }
  ]
}