{
  "nbformat": 4,
  "nbformat_minor": 0,
  "metadata": {
    "colab": {
      "name": "Arya.AI Assignment-2.ipynb",
      "provenance": []
    },
    "kernelspec": {
      "name": "python3",
      "display_name": "Python 3"
    },
    "language_info": {
      "name": "python"
    }
  },
  "cells": [
    {
      "cell_type": "code",
      "metadata": {
        "colab": {
          "base_uri": "https://localhost:8080/"
        },
        "id": "ThtFM3Q_apyG",
        "outputId": "c49b84cf-e83a-4912-fdc0-0f24ccfd2889"
      },
      "source": [
        "from google.colab import drive\n",
        "drive.mount('/gdrive/')\n",
        "%cd /gdrive"
      ],
      "execution_count": 1,
      "outputs": [
        {
          "output_type": "stream",
          "name": "stdout",
          "text": [
            "Mounted at /gdrive/\n",
            "/gdrive\n"
          ]
        }
      ]
    },
    {
      "cell_type": "code",
      "metadata": {
        "colab": {
          "base_uri": "https://localhost:8080/"
        },
        "id": "WpE12VSqau6G",
        "outputId": "8161d7ea-eb0e-42c8-d542-a3cbc7b0bff8"
      },
      "source": [
        "ls"
      ],
      "execution_count": 2,
      "outputs": [
        {
          "output_type": "stream",
          "name": "stdout",
          "text": [
            "\u001b[0m\u001b[01;34mMyDrive\u001b[0m/  \u001b[01;34mShareddrives\u001b[0m/\n"
          ]
        }
      ]
    },
    {
      "cell_type": "code",
      "metadata": {
        "colab": {
          "base_uri": "https://localhost:8080/"
        },
        "id": "9PH1ASfIau27",
        "outputId": "19f566cc-72e3-441c-8eea-1c6f439f44a8"
      },
      "source": [
        "cd/gdrive/My Drive/AryaAI-Assignment/"
      ],
      "execution_count": 3,
      "outputs": [
        {
          "output_type": "stream",
          "name": "stdout",
          "text": [
            "/gdrive/My Drive/AryaAI-Assignment\n"
          ]
        }
      ]
    },
    {
      "cell_type": "code",
      "metadata": {
        "colab": {
          "base_uri": "https://localhost:8080/"
        },
        "id": "FR9rXt7Mauzw",
        "outputId": "2de60fcb-6a60-4845-fc3d-9e55c0440cad"
      },
      "source": [
        "ls"
      ],
      "execution_count": 4,
      "outputs": [
        {
          "output_type": "stream",
          "name": "stdout",
          "text": [
            "output.csv  test_set.csv  training_set.csv\n"
          ]
        }
      ]
    },
    {
      "cell_type": "markdown",
      "metadata": {
        "id": "dsfq0YSwbHRJ"
      },
      "source": [
        "Import all necessary libraries"
      ]
    },
    {
      "cell_type": "code",
      "metadata": {
        "id": "8DCJHUc4auwp"
      },
      "source": [
        "import pandas as pd\n",
        "import numpy as np\n",
        "import matplotlib.pyplot as plt\n",
        "import seaborn as sns\n",
        "from sklearn.model_selection import train_test_split\n",
        "from sklearn.linear_model import Lasso, LogisticRegression\n",
        "from sklearn.feature_selection import SelectFromModel\n",
        "from sklearn.preprocessing import StandardScaler\n",
        "from sklearn.metrics import confusion_matrix, accuracy_score\n",
        "from sklearn.decomposition import PCA\n",
        "%matplotlib inline"
      ],
      "execution_count": 5,
      "outputs": []
    },
    {
      "cell_type": "markdown",
      "metadata": {
        "id": "Q_RAxI1kbMUF"
      },
      "source": [
        "Load training dataset from csv file"
      ]
    },
    {
      "cell_type": "code",
      "metadata": {
        "id": "nVoOH0fuaute"
      },
      "source": [
        "dataset = pd.read_csv('training_set.csv')\n",
        "dataset = dataset.iloc[:, 1:]"
      ],
      "execution_count": 6,
      "outputs": []
    },
    {
      "cell_type": "markdown",
      "metadata": {
        "id": "V5IeEAvObUBG"
      },
      "source": [
        "Separate features and classes"
      ]
    },
    {
      "cell_type": "code",
      "metadata": {
        "id": "xFTr6xMgauqA"
      },
      "source": [
        "features = dataset.iloc[:, :-1]\n",
        "classes = dataset.iloc[:, -1]\n",
        "# features.columns"
      ],
      "execution_count": 7,
      "outputs": []
    },
    {
      "cell_type": "markdown",
      "metadata": {
        "id": "y7XHNwETbYd4"
      },
      "source": [
        "Feature Selection"
      ]
    },
    {
      "cell_type": "code",
      "metadata": {
        "id": "vpotzzodaujf"
      },
      "source": [
        "sel_ = SelectFromModel(LogisticRegression(C=0.5, penalty='l1', solver='liblinear'))\n",
        "sel_.fit(features.values, classes.values)\n",
        "unwanted_features = features.columns[(sel_.estimator_.coef_ == 0).ravel().tolist()]\n",
        "refined_features = features.drop(unwanted_features, axis=1, inplace=False)"
      ],
      "execution_count": 8,
      "outputs": []
    },
    {
      "cell_type": "markdown",
      "metadata": {
        "id": "MeX5J-C6beYE"
      },
      "source": [
        "scaler"
      ]
    },
    {
      "cell_type": "code",
      "metadata": {
        "id": "JpTxS_sbbcOK"
      },
      "source": [
        "sc = StandardScaler()"
      ],
      "execution_count": 9,
      "outputs": []
    },
    {
      "cell_type": "markdown",
      "metadata": {
        "id": "VRY_bIAVblZv"
      },
      "source": [
        "Dimension reduction using PCA"
      ]
    },
    {
      "cell_type": "code",
      "metadata": {
        "id": "q4W-edSqbjOZ"
      },
      "source": [
        "train_score = []\n",
        "validation_score = []\n",
        "k_vals = []\n",
        "for i in range(2, 50):\n",
        "    k_vals.append(i)\n",
        "    pca = PCA(n_components=i)\n",
        "    X_pca = pca.fit_transform(refined_features.values)\n",
        "    X_train, X_validate, y_train, y_validate = train_test_split(X_pca, classes.values, test_size = 0.20, random_state = 0)\n",
        "    \n",
        "    X_train = sc.fit_transform(X_train)\n",
        "    X_validate = sc.transform(X_validate)\n",
        "    \n",
        "    classifier = LogisticRegression(random_state = 0)\n",
        "    classifier.fit(X_train, y_train)\n",
        "    \n",
        "    tr_score = classifier.score(X_train, y_train)\n",
        "    train_score.append(tr_score)\n",
        "    \n",
        "    val_score = classifier.score(X_validate, y_validate)\n",
        "    validation_score.append(val_score)\n",
        "    y_pred = classifier.predict(X_validate)"
      ],
      "execution_count": 10,
      "outputs": []
    },
    {
      "cell_type": "code",
      "metadata": {
        "colab": {
          "base_uri": "https://localhost:8080/",
          "height": 390
        },
        "id": "IzjpM1FpbpS8",
        "outputId": "c2a5035f-d037-4ff6-848a-d31e1000baec"
      },
      "source": [
        "plt.figure(figsize=(10,5))\n",
        "plt.xlabel('Different Values of K')\n",
        "plt.ylabel('Model score')\n",
        "plt.plot(k_vals, train_score, color = 'r', label = \"training score\")\n",
        "plt.plot(k_vals, validation_score, color = 'b', label = 'validation score')\n",
        "plt.legend(bbox_to_anchor=(1, 1),\n",
        "           bbox_transform=plt.gcf().transFigure)"
      ],
      "execution_count": 11,
      "outputs": [
        {
          "output_type": "execute_result",
          "data": {
            "text/plain": [
              "<matplotlib.legend.Legend at 0x7fdd408ca050>"
            ]
          },
          "metadata": {},
          "execution_count": 11
        },
        {
          "output_type": "display_data",
          "data": {
            "image/png": "[encoded data removed]",
            "text/plain": [
              "<Figure size 720x360 with 1 Axes>"
            ]
          },
          "metadata": {
            "needs_background": "light"
          }
        }
      ]
    }
  ]
}